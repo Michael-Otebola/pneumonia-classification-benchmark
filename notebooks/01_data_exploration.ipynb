{
 "cells": [
  {
   "cell_type": "code",
   "execution_count": 1,
   "id": "ad5e0cf5",
   "metadata": {},
   "outputs": [],
   "source": [
    "import os\n",
    "import matplotlib.pyplot as plt\n",
    "from glob import glob\n",
    "from PIL import Image\n",
    "\n",
    "# Paths\n",
    "train_path = \"../data/raw/train\"\n",
    "test_path = \"../data/raw/test\"\n",
    "val_path = \"../data/raw/val\"\n"
   ]
  },
  {
   "cell_type": "code",
   "execution_count": null,
   "id": "873ddd40",
   "metadata": {},
   "outputs": [
    {
     "name": "stdout",
     "output_type": "stream",
     "text": [
      "Train set:\n",
      "NORMAL: 1341 images\n",
      "PNEUMONIA: 3875 images\n",
      "\n",
      "Validation set:\n",
      "NORMAL: 8 images\n",
      "PNEUMONIA: 8 images\n",
      "\n",
      "Test set:\n",
      "NORMAL: 234 images\n",
      "PNEUMONIA: 390 images\n"
     ]
    }
   ],
   "source": [
    "# count of images per class\n",
    "\n",
    "def count_images(path):\n",
    "    classes = os.listdir(path)\n",
    "    for cls in classes:\n",
    "        cls_path = os.path.join(path, cls)\n",
    "        print(f\"{cls}: {len(os.listdir(cls_path))} images\")\n",
    "\n",
    "print(\"Train set:\")\n",
    "count_images(train_path)\n",
    "\n",
    "print(\"\\nValidation set:\")\n",
    "count_images(val_path)\n",
    "\n",
    "print(\"\\nTest set:\")\n",
    "count_images(test_path)\n"
   ]
  },
  {
   "cell_type": "code",
   "execution_count": null,
   "id": "dfecaa3f",
   "metadata": {},
   "outputs": [],
   "source": []
  }
 ],
 "metadata": {
  "kernelspec": {
   "display_name": "venv",
   "language": "python",
   "name": "python3"
  },
  "language_info": {
   "codemirror_mode": {
    "name": "ipython",
    "version": 3
   },
   "file_extension": ".py",
   "mimetype": "text/x-python",
   "name": "python",
   "nbconvert_exporter": "python",
   "pygments_lexer": "ipython3",
   "version": "3.13.4"
  }
 },
 "nbformat": 4,
 "nbformat_minor": 5
}
